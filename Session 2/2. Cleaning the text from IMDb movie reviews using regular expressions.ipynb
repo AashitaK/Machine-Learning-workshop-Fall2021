{
 "cells": [
  {
   "cell_type": "markdown",
   "metadata": {},
   "source": [
    "In this notebook, we will use the dataset named [IMDb Dataset of 50K Movie Reviews](https://www.kaggle.com/lakshmi25npathi/imdb-dataset-of-50k-movie-reviews) from [Kaggle](https://en.wikipedia.org/wiki/Kaggle). Please directly download the dataset from Kaggle here and put it in the same folder where this notebook is saved."
   ]
  },
  {
   "cell_type": "code",
   "execution_count": null,
   "metadata": {},
   "outputs": [],
   "source": [
    "import pandas as pd\n",
    "df = pd.read_csv(\"IMDB Dataset.csv\")\n",
    "df.head()"
   ]
  },
  {
   "cell_type": "code",
   "execution_count": null,
   "metadata": {},
   "outputs": [],
   "source": [
    "text = df.iloc[3, 0]\n",
    "text"
   ]
  },
  {
   "cell_type": "markdown",
   "metadata": {},
   "source": [
    "The text needs to be cleaned up by removing HTML tags, punctuation, characters, etc.\n",
    "\n",
    "We will use two functions from the package `re` designed to use regular expressions for python:\n",
    "* `re.findall()`: returns all the pattern matches as a list\n",
    "* `re.sub()`: search the pattern and replace it\n",
    " \n",
    "We will first use `re.findall()` to fine-tune the regular expression pattern and then once we are sure, modify the text using `re.sub()` with the given pattern.\n",
    "\n",
    "Let us find the regular expression that would capture HTML tags such as `<br />`."
   ]
  },
  {
   "cell_type": "code",
   "execution_count": null,
   "metadata": {},
   "outputs": [],
   "source": [
    "import re\n",
    "re.findall('<', text)"
   ]
  },
  {
   "cell_type": "markdown",
   "metadata": {},
   "source": [
    "Quantifiers | Description\n",
    "----|-----\n",
    ". | Match any character except newline\n",
    "* | Match 0 or more repetitions\n",
    "+ | Match 1 or more repetitions\n",
    "? | Match 0 or 1 repetitions"
   ]
  },
  {
   "cell_type": "markdown",
   "metadata": {},
   "source": [
    "Let us use `.` to see what we get."
   ]
  },
  {
   "cell_type": "code",
   "execution_count": null,
   "metadata": {},
   "outputs": [],
   "source": [
    "re.findall('<.', text)"
   ]
  },
  {
   "cell_type": "markdown",
   "metadata": {},
   "source": [
    "We want to get more characters rather than only one following `<`, so we use `.*` which means we are looking to match `.` (characters) zero or more times."
   ]
  },
  {
   "cell_type": "code",
   "execution_count": null,
   "metadata": {},
   "outputs": [],
   "source": []
  },
  {
   "cell_type": "code",
   "execution_count": null,
   "metadata": {},
   "outputs": [],
   "source": [
    "len()"
   ]
  },
  {
   "cell_type": "markdown",
   "metadata": {},
   "source": [
    "So, it matched everything until the end of the text. We did not want that, so let us try `<.*>`."
   ]
  },
  {
   "cell_type": "code",
   "execution_count": null,
   "metadata": {},
   "outputs": [],
   "source": []
  },
  {
   "cell_type": "markdown",
   "metadata": {},
   "source": [
    "This is slightly but not what we want. We need to use **non-greedy mode** by adding `?`."
   ]
  },
  {
   "cell_type": "markdown",
   "metadata": {},
   "source": [
    "Characters | Description\n",
    "----|-----\n",
    "*? | Match 0 or more repetitions non-greedy\n",
    "+? | Match 1 or more repetitions non-greedy\n",
    "?? | Match 0 or 1 repetitions non-greedy\n",
    "\n",
    "#### Greedy vs Lazy (or non-greedy) mode\n",
    "Greedy mode repeats the pattern **as many times as possible**. Lazy (or non-greedy) mode repeats the pattern **minimal numbers of times**.\n",
    "\n",
    "So, as we add `?` to convert the pattern matching for `.*` to non-greedy mode, it captures HTML tags such as `<br />`."
   ]
  },
  {
   "cell_type": "code",
   "execution_count": null,
   "metadata": {},
   "outputs": [],
   "source": [
    "re.findall('<.*?>', text)"
   ]
  },
  {
   "cell_type": "markdown",
   "metadata": {},
   "source": [
    "Now that we have found the suitable regular expression `<.*?>` to match the HTML tags, let us use `re.sub()` function to replace the tags in the text:"
   ]
  },
  {
   "cell_type": "code",
   "execution_count": null,
   "metadata": {},
   "outputs": [],
   "source": []
  },
  {
   "cell_type": "code",
   "execution_count": null,
   "metadata": {},
   "outputs": [],
   "source": [
    "text # still changed"
   ]
  },
  {
   "cell_type": "markdown",
   "metadata": {},
   "source": [
    "It is good to first check that the change is as desired and then use the assignment operator `=` to make the changes in the text."
   ]
  },
  {
   "cell_type": "code",
   "execution_count": null,
   "metadata": {},
   "outputs": [],
   "source": [
    "text = \n",
    "text"
   ]
  },
  {
   "cell_type": "markdown",
   "metadata": {},
   "source": [
    "Next, we want to get rid of punctuations such as commas, periods, etc. We use square brackets `[]` to list the various characters that we want to match. For example:"
   ]
  },
  {
   "cell_type": "code",
   "execution_count": null,
   "metadata": {},
   "outputs": [],
   "source": [
    "re.findall(\"[,.]\", text)"
   ]
  },
  {
   "cell_type": "markdown",
   "metadata": {},
   "source": [
    "We can add more characters:"
   ]
  },
  {
   "cell_type": "code",
   "execution_count": null,
   "metadata": {},
   "outputs": [],
   "source": [
    "re.findall(\"[,.:;]\", text)"
   ]
  },
  {
   "cell_type": "markdown",
   "metadata": {},
   "source": [
    "We see that in the text above we have \"soap opera...\" where the period is repeated thrice. So, we add `+` at the end of the pattern to allow for 1 or more repetitions of the pattern."
   ]
  },
  {
   "cell_type": "code",
   "execution_count": null,
   "metadata": {},
   "outputs": [],
   "source": [
    "re.findall(\"[,.]+\", text)"
   ]
  },
  {
   "cell_type": "markdown",
   "metadata": {},
   "source": [
    "Can you think of all the possible characters that you can add here:"
   ]
  },
  {
   "cell_type": "code",
   "execution_count": null,
   "metadata": {},
   "outputs": [],
   "source": []
  },
  {
   "cell_type": "markdown",
   "metadata": {},
   "source": [
    "Check what the substitution will look like using `re.sub()`."
   ]
  },
  {
   "cell_type": "code",
   "execution_count": null,
   "metadata": {},
   "outputs": [],
   "source": []
  },
  {
   "cell_type": "markdown",
   "metadata": {},
   "source": [
    "Make the changes to the `text` variable using assignment operator `=`."
   ]
  },
  {
   "cell_type": "code",
   "execution_count": null,
   "metadata": {},
   "outputs": [],
   "source": []
  },
  {
   "cell_type": "markdown",
   "metadata": {},
   "source": [
    "Now, what about `'`, `\"`, `\\`, etc? We add `\\` at the front to recognize these characters as they are."
   ]
  },
  {
   "cell_type": "code",
   "execution_count": null,
   "metadata": {},
   "outputs": [],
   "source": [
    "re.findall(\"[\\'\\\"\\[\\]]\", text)"
   ]
  },
  {
   "cell_type": "code",
   "execution_count": null,
   "metadata": {},
   "outputs": [],
   "source": [
    "text = re.sub(\"[\\'\\\"\\[\\]]\", '', text)\n",
    "text"
   ]
  },
  {
   "cell_type": "markdown",
   "metadata": {},
   "source": [
    "Sum it all up nicely in a function.\n",
    "```\n",
    "import re\n",
    "def clean_text(text):\n",
    "\n",
    "    return text\n",
    "    \n",
    "```\n",
    "\n",
    "And apply the function `clean_text()` to the columns corresponding to reviews in the above dataframe `df` using [`map()`](https://pandas.pydata.org/docs/reference/api/pandas.Series.map.html) function. Check that it worked."
   ]
  },
  {
   "cell_type": "code",
   "execution_count": null,
   "metadata": {},
   "outputs": [],
   "source": []
  },
  {
   "cell_type": "code",
   "execution_count": null,
   "metadata": {},
   "outputs": [],
   "source": []
  },
  {
   "cell_type": "code",
   "execution_count": null,
   "metadata": {},
   "outputs": [],
   "source": []
  },
  {
   "cell_type": "markdown",
   "metadata": {},
   "source": [
    "There is a lot more to regular expressions. Now that you have used them a little bit, you can learn more by practise. Below are a few good cheatsheets:\n",
    "* https://learnbyexample.github.io/python-regex-cheatsheet/#re-module-functions\n",
    "* https://www.shortcutfoo.com/app/dojos/python-regex/cheatsheet\n"
   ]
  },
  {
   "cell_type": "code",
   "execution_count": null,
   "metadata": {},
   "outputs": [],
   "source": []
  }
 ],
 "metadata": {
  "kernelspec": {
   "display_name": "Python 3",
   "language": "python",
   "name": "python3"
  },
  "language_info": {
   "codemirror_mode": {
    "name": "ipython",
    "version": 3
   },
   "file_extension": ".py",
   "mimetype": "text/x-python",
   "name": "python",
   "nbconvert_exporter": "python",
   "pygments_lexer": "ipython3",
   "version": "3.8.3"
  }
 },
 "nbformat": 4,
 "nbformat_minor": 4
}
