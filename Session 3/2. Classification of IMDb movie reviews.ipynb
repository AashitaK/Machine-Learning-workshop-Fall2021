{
 "cells": [
  {
   "cell_type": "markdown",
   "metadata": {},
   "source": [
    "In this notebook, we will build a classification model to predict whether a movie review from IMDb is positive or negative. We will use the dataset named [IMDb Dataset of 50K Movie Reviews](https://www.kaggle.com/lakshmi25npathi/imdb-dataset-of-50k-movie-reviews) from [Kaggle](https://en.wikipedia.org/wiki/Kaggle). "
   ]
  },
  {
   "cell_type": "code",
   "execution_count": null,
   "metadata": {},
   "outputs": [],
   "source": [
    "import warnings \n",
    "warnings.filterwarnings(\"ignore\")\n",
    "\n",
    "import pandas as pd\n",
    "df = pd.read_csv(\"IMDB Dataset.csv\")\n",
    "df.head()"
   ]
  },
  {
   "cell_type": "code",
   "execution_count": null,
   "metadata": {},
   "outputs": [],
   "source": [
    "df.iloc[0, 0]"
   ]
  },
  {
   "cell_type": "markdown",
   "metadata": {},
   "source": [
    "Each input example in the logistic classification algorithm was a vector(point) in n-dimensional space. Our input consists of text, which is a sequence of words, spaces, punctuations, emojis, etc. So, we need to convert this input into a feature vector, which consists of numerical values.  When we have categories, such as the three ports of entry in the Titanic dataset, we use one-hot encoding to create columns for each categories and thus, get a numerical feature vector. What should we do in this case? \n",
    "\n",
    "We will use the techniques from **natural language processing (NLP) for text classification**. This particular model would be an example of **sentiment analysis**, which as the name suggests identifies the sentiment of the text. \n",
    "\n",
    "#### Bag Of Words (BOW)\n",
    "\n",
    "A simple way to vectorize a text would be to convert it into a sequence of words. For example,\n",
    "```\n",
    "\"It is sunny in Los Angeles.\" ->  [\"It\", \"is\", \"sunny\", \"in\", \"Los\", \"Angeles\", \".\"]\n",
    "```\n",
    "\n",
    "So, now we have a vector but the values are not numerical. So, we create a vocabulary\n",
    "```\n",
    "Training text: [\"I like to read in cafes.\", \"The walk in the park is nice.\"]\n",
    "Vocabulary: [\"I\", \"like\", \"to\", \"read\", \"in\", \"cafes\", \"the\", \"walk\", \"park\", \"is\", \"nice\"]\n",
    "New text: \"I like the walk in the park.\"\n",
    "```\n",
    "\n",
    "|I| like| to| read| in| cafes|the|walk| park|is|nice|\n",
    "|-|-----|---|-----|---|------|---|----|-----|--|----|\n",
    "|1|  1  | 0 |  0  | 1 |  0   | 2 |  1 |  1  |0 | 0  |\n",
    "\n",
    "```\n",
    "Vectorization: \"I like the walk in the park.\" -> [1, 1, 0, 0, 1, 0, 2, 1, 1, 0, 0]\n",
    "``` \n",
    "If I know the vocabulary set `[\"I\", \"like\", \"to\", \"read\", \"in\", \"cafes\", \"the\", \"walk\", \"park\", \"is\", \"nice\"]` and I am given the vector `[1, 1, 0, 0, 1, 0, 2, 1, 1, 0, 0]` corresponding to this vocabulary. Can I retrieve the original sentence? If not, what is missing?\n",
    "\n",
    "This technique is called Bag of words (BOW) as it disregards the order of the words. You can think of it as putting all the words from a sentence in a bag and thereby breaking the sequence of words completely.\n",
    "\n",
    "With the above steps, you will get a pair (input, output) corresponding to each training example where input is the numerical vector and the output is label 0 or 1 depending on whether the review is negative or positive respectively.\n",
    "\n",
    "In practical examples, your vocabulary needs to be very large which means you will have many columns. The number of columns adds to the complexity of the model. To keep overfitting in check, you will need a much higher number of rows (training examples) to train the model. \n",
    "\n",
    "The above process of vectorization can be performed using [`CountVectorizer()`](https://scikit-learn.org/stable/modules/generated/sklearn.feature_extraction.text.CountVectorizer.html) from [`scikit-learn`](https://scikit-learn.org/stable/) as follows. \n",
    "\n",
    "First we import and define the vectorizer.\n",
    "```\n",
    "from sklearn.feature_extraction.text import CountVectorizer\n",
    "vectorizer = CountVectorizer() \n",
    "```\n",
    "\n",
    "Then, we use only the training set to train/fit the vectorizer. Once it is trained, we transformed the training set.\n",
    "```\n",
    "X_train_vectorized = vectorizer.fit_transform(X_train)\n",
    "```\n",
    "Lastly, we transform the validation set. Note that we do not use the validation set to fit/train the vectorizer.\n",
    "```\n",
    "X_valid_vectorized = vectorizer.transform(X_valid)\n",
    "```\n",
    "\n",
    "The variables `X_train_vectorized` and `X_valid_vectorized` thus obtained are numerical vectors that can be fed into logistic classifier.\n",
    "\n",
    "Since, the vocabulary is coming solely from the training set, the performance of our model depends on making sure that the training set is large and diverse enough to contain most of the needful vocabulary.\n",
    "\n",
    "There are in fact two basic steps to follow before building the model:\n",
    "- Preprocessing: Clean the text and make it easier to process\n",
    "- Vectorization: Create numerical feature vectors from the text\n",
    "\n",
    "To decide on how to clean the text, let us have a closer look at the first review:"
   ]
  },
  {
   "cell_type": "code",
   "execution_count": null,
   "metadata": {
    "collapsed": true
   },
   "outputs": [],
   "source": [
    "df.iloc[16, 0]"
   ]
  },
  {
   "cell_type": "markdown",
   "metadata": {},
   "source": [
    "Some of the text preprocessing we performed earlier can be useful here:\n",
    "* Remove HTML tags such as <br />\n",
    "* Remove the characters such as \\\\, ', \"\n",
    "* Replace punctuation with spaces\n",
    "* Convert all the text to lowercase\n",
    "\n",
    "It can be summed up nicely in a function.\n",
    "```\n",
    "import re\n",
    "def clean_text(text):\n",
    "\n",
    "    return text\n",
    "    \n",
    "```\n",
    "\n",
    "You can use pass this function on to the [`CountVectorizer()`](https://scikit-learn.org/stable/modules/generated/sklearn.feature_extraction.text.CountVectorizer.html) so that it cleans up the reviews before vectorizing.\n",
    "```\n",
    "vectorizer = CountVectorizer(preprocessor=clean_text) \n",
    "```"
   ]
  },
  {
   "cell_type": "markdown",
   "metadata": {},
   "source": [
    "What else can we do? Are there words in the reviews that are not adding any value to the model for predicting the sentiment?"
   ]
  },
  {
   "cell_type": "code",
   "execution_count": null,
   "metadata": {
    "collapsed": true
   },
   "outputs": [],
   "source": [
    "df.iloc[1, 0]"
   ]
  },
  {
   "cell_type": "markdown",
   "metadata": {},
   "source": [
    "The common words such as \"the\", \"a\", \"is\", \"it\", etc. can be conveniently removed. They called **stopwords**. \n",
    "\n",
    "```\n",
    "vectorizer = CountVectorizer(stop_words=\"english\", preprocessor=clean_text)                         \n",
    "```\n",
    "\n",
    "So go ahead and try build the model! The solution will be shared after the session. We will reconvene to learn more.\n",
    "\n",
    "Guideline: \n",
    "* Divide the dataset into training and validation set\n",
    "* Define the function for cleaning text to be used in the next step\n",
    "* Vectorize both training and validation set using [`CountVectorizer()`](https://scikit-learn.org/stable/modules/generated/sklearn.feature_extraction.text.CountVectorizer.html). Make sure to pass arguments for `stop_words` and `preprocessor` keywords.\n",
    "* Train a logistic classifier using [`LogisticRegression`](http://scikit-learn.org/stable/modules/generated/sklearn.linear_model.LogisticRegression.html) on the vectorized training set \n",
    "* Predict the labels for the validation set and test their accuracy\n",
    "* Write a few reviews and test them to see if the model correctly predicts the sentiment labels (Optional)"
   ]
  },
  {
   "cell_type": "code",
   "execution_count": null,
   "metadata": {
    "collapsed": true
   },
   "outputs": [],
   "source": [
    "from sklearn.model_selection import train_test_split\n",
    "# default is 75% / 25% train-test split\n",
    "X = df['review'] \n",
    "y = df['sentiment'].replace({'positive': 1, 'negative': 0})\n",
    "X_train, X_valid, y_train, y_valid = train_test_split(X, y, random_state=0)"
   ]
  },
  {
   "cell_type": "code",
   "execution_count": null,
   "metadata": {
    "collapsed": true
   },
   "outputs": [],
   "source": [
    "import re\n",
    "def clean_text(text):\n",
    "    \"\"\"\n",
    "    Applies some pre-processing on the given text.\n",
    "\n",
    "    Steps :\n",
    "    - Removing HTML tags\n",
    "    - Removing punctuations and other characters\n",
    "    \"\"\"\n",
    "    \n",
    "    # remove HTML tags\n",
    "    text = re.sub(r'<.*?>', '', text)\n",
    "    \n",
    "    # remove punctuation and other characters\n",
    "    text = re.sub(\"[,.:;?!@#$%^&*()-+_=/{}]+\", '', text)\n",
    "    \n",
    "    # remove the characters [\\], ['] and [\"]\n",
    "    text = re.sub(\"[\\'\\\"\\[\\]]\", '', text) \n",
    "    \n",
    "    # remove digits\n",
    "    text = re.sub(r'<.*?>', '', text)\n",
    "\n",
    "    return text"
   ]
  },
  {
   "cell_type": "code",
   "execution_count": null,
   "metadata": {},
   "outputs": [],
   "source": []
  },
  {
   "cell_type": "markdown",
   "metadata": {},
   "source": [
    "### TF-IDF Vectorizer\n",
    "\n",
    "If we were to look only at words such as in Bag-Of-Words (BOW), some words such as \"wonderful\", \"disgusting\", etc. would be stronger indicators for the sentiment of the reviews than words such as \"watching\", \"become\", \"every\", \"after\", etc. In the above method, the words were weighted solely based on their frequency in a review. Wouldn't it be useful to weigh rarer words higher than commonly occuring ones?\n",
    "\n",
    "Term Frequency Inverse Document Frequency (TF-IDF)\n",
    "\n",
    "$$ \\text{TF-IDF} = \\text{TF (Term Frequency)} * \\text{IDF (Inverse Document Frequency)} $$\n",
    "\n",
    "Term Frequency (TF) is the same as above viz the number of times a word occur in a review. It is multiplied by Inverse Document Frequency (IDF) which is a measure of the originality of the word. The words that are rarer have higher IDF values and hence, they are weighted more in TF-IDF than their true frequency as compared to commonly occuring words.\n",
    "\n",
    "$$ \\text{Inverse Document Frequency (IDF) for a word} = \\log \\Bigg( \\frac{\\text{Total number of reviews}}{\\text{Number of reviews that contain this word}}\\Bigg)$$\n",
    "\n",
    "Term Frequency Inverse Document Frequency (TF-IDF) vectorization is implemented in [`scikit-learn`](https://scikit-learn.org/stable/) as [`TfidfVectorizer()`](https://scikit-learn.org/stable/modules/generated/sklearn.feature_extraction.text.TfidfVectorizer.html) and has the same syntax as [`CountVectorizer()`](https://scikit-learn.org/stable/modules/generated/sklearn.feature_extraction.text.CountVectorizer.html) above."
   ]
  },
  {
   "cell_type": "code",
   "execution_count": null,
   "metadata": {},
   "outputs": [],
   "source": []
  },
  {
   "cell_type": "markdown",
   "metadata": {},
   "source": [
    "### Using n-grams\n",
    "\n",
    "The above methods using Bag-Of-Words (BOW) technique are not good at detecting negation. Let's predict the sentiment for some of the reviews. Recall that $0$ corresponds to negative and $1$ corresponds to positive sentiment."
   ]
  },
  {
   "cell_type": "code",
   "execution_count": null,
   "metadata": {
    "collapsed": true
   },
   "outputs": [],
   "source": [
    "review1 = [\"In and of itself it is not a bad film.\"]\n",
    "vectorized_review1 = vectorizer2.transform(review1)\n",
    "model2.predict(vectorized_review1)"
   ]
  },
  {
   "cell_type": "code",
   "execution_count": null,
   "metadata": {
    "collapsed": true
   },
   "outputs": [],
   "source": [
    "review2 = [\"\"\"It plays on our knowledge and our senses, particularly with the scenes concerning\n",
    "          Orton and Halliwell and the sets are terribly well done.\"\"\"]\n",
    "vectorized_review2 = vectorizer2.transform(review2)\n",
    "model2.predict(vectorized_review2)"
   ]
  },
  {
   "cell_type": "code",
   "execution_count": null,
   "metadata": {
    "collapsed": true
   },
   "outputs": [],
   "source": [
    "review3 = [\"\"\"This show was not really funny anymore.\"\"\"]\n",
    "vectorized_review3 = vectorizer2.transform(review3)\n",
    "model2.predict(vectorized_review3)"
   ]
  },
  {
   "cell_type": "markdown",
   "metadata": {},
   "source": [
    "An improvement would be to include phrases in the model instead of simply breaking the sentence into words. This is achieved using $n$-grams for words. The bigrams take two words together at a time, the trigrams take three words and so on. It is implemented using the keyword `ngram_range` as follows in the vectorizer:\n",
    "```\n",
    "vectorizer = TfidfVectorizer(stop_words=\"english\",\n",
    "                             preprocessor=clean_text,\n",
    "                             ngram_range=(1, 3))\n",
    "```\n",
    "\n",
    "where\n",
    "```\n",
    "ngram_range: tuple (min_n, max_n), default=(1, 1)\n",
    "The lower and upper boundary of the range of n-values for different n-grams to be extracted. All values of n such that min_n <= n <= max_n will be used. For example an ngram_range of (1, 1) means only unigrams, (1, 2) means unigrams and bigrams, and (2, 2) means only bigrams.\n",
    "```\n"
   ]
  },
  {
   "cell_type": "code",
   "execution_count": null,
   "metadata": {},
   "outputs": [],
   "source": []
  },
  {
   "cell_type": "code",
   "execution_count": null,
   "metadata": {
    "collapsed": true
   },
   "outputs": [],
   "source": [
    "review1 = [\"In and of itself it is not a bad film.\"]\n",
    "vectorized_review1 = vectorizer3.transform(review1)\n",
    "model3.predict(vectorized_review1)"
   ]
  },
  {
   "cell_type": "code",
   "execution_count": null,
   "metadata": {
    "collapsed": true
   },
   "outputs": [],
   "source": [
    "review2 = [\"\"\"It plays on our knowledge and our senses, particularly with the scenes concerning\n",
    "          Orton and Halliwell and the sets are terribly well done.\"\"\"]\n",
    "vectorized_review2 = vectorizer3.transform(review2)\n",
    "model3.predict(vectorized_review2)"
   ]
  },
  {
   "cell_type": "code",
   "execution_count": null,
   "metadata": {
    "collapsed": true
   },
   "outputs": [],
   "source": [
    "review3 = [\"\"\"This show was not really funny anymore.\"\"\"]\n",
    "vectorized_review3 = vectorizer3.transform(review3)\n",
    "model3.predict(vectorized_review3)"
   ]
  },
  {
   "cell_type": "markdown",
   "metadata": {},
   "source": [
    "As you can see, the model is correctly predicting the sentiment only for the second review. It still does not get the sentiment for the other two reviews! There are limitations with using Logistic Regression than can only draw linear decision boundaries, so we will come back to this dataset when using more advanced neural network algorithm to see if they improve the results. We will also study some neural network architectures that are especially designed to have memory of previous words in a sentence."
   ]
  },
  {
   "cell_type": "code",
   "execution_count": null,
   "metadata": {
    "collapsed": true
   },
   "outputs": [],
   "source": []
  }
 ],
 "metadata": {
  "kernelspec": {
   "display_name": "Python 3",
   "language": "python",
   "name": "python3"
  },
  "language_info": {
   "codemirror_mode": {
    "name": "ipython",
    "version": 3
   },
   "file_extension": ".py",
   "mimetype": "text/x-python",
   "name": "python",
   "nbconvert_exporter": "python",
   "pygments_lexer": "ipython3",
   "version": "3.6.1"
  }
 },
 "nbformat": 4,
 "nbformat_minor": 4
}
