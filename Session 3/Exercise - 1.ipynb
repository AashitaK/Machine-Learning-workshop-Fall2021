{
 "cells": [
  {
   "cell_type": "markdown",
   "metadata": {},
   "source": [
    "### Instructions for the exercise - 1\n",
    "\n",
    "#### Breakout room with 3 members:\n",
    "**Pick a question**: Everyone should pick one distinct question (make sure two of you are not picking the same one)  \n",
    "**Revise**: Take **5 min** to revise and prepare your explanation for answering the question in your own words  \n",
    "**Share**: Take turns to state your question and explain your answer to your group   \n",
    "* Student who pick the first question will go first, followed by the second question, then third\n",
    "* Each student should wrap up the explanation within **2-3 minutes**\n",
    "\n",
    "Total time should be less than **15 minutes**.\n",
    "\n",
    "Questions:\n",
    "* Please explain the following formulation of Logistic classifer: $$Prob(y=1) = sig(w_1*x_1 + w_2*x_2 + \\cdots + w_n*x_n + b) $$\n",
    "  \n",
    "\n",
    "* Please explain the following formulation of Logloss cost function: $$ J = \\frac{1}{N} \\sum_{i=1}^N c(y, p) = - \\frac{1}{N} \\sum_{i=1}^N y \\log(p) + (1-y) \\log(1-p)$$\n",
    "Also, explain how the cost function $J$ is consequently a function of the weights $w_1, w_2, \\dots, w_n$ and the bias term $b$, that is $J(w_1, w_2, \\dots, w_n, b)$.\n",
    "\n",
    "\n",
    "\n",
    "* Please explain the learning process by which the weights are updated using training examples and how it relates to the cost function $J$."
   ]
  },
  {
   "cell_type": "code",
   "execution_count": null,
   "metadata": {
    "collapsed": true
   },
   "outputs": [],
   "source": []
  },
  {
   "cell_type": "markdown",
   "metadata": {},
   "source": [
    "#### Breakout room with 4 members:\n",
    "**Pick a question**: Everyone should pick one distinct question (make sure two of you are not picking the same one)  \n",
    "**Revise**: Take **5 min** to revise and prepare your explanation for answering the question in your own words  \n",
    "**Share**: Take turns to state your question and explain your answer to your group   \n",
    "* Student who pick the first question will go first, followed by the second question, then third\n",
    "* Each student should explain within **2 minutes**\n",
    "\n",
    "Total time should be less than **15 minutes**.\n",
    "\n",
    "Questions:\n",
    "* Please explain why the expression $w_1*x_1 + w_2*x_2 + \\cdots + w_n*x_n + b$ is used in the formulation of Logistic classifer: $$Prob(y=1) = sig(w_1*x_1 + w_2*x_2 + \\cdots + w_n*x_n + b) $$\n",
    "\n",
    "\n",
    "* Please explain why the sigmoid/logistic function is used in the formulation of Logistic classifer: $$Prob(y=1) = sig(w_1*x_1 + w_2*x_2 + \\cdots + w_n*x_n + b) $$   \n",
    "  \n",
    "  \n",
    "* Please explain the following formulation of Logloss cost function: $$ J = \\frac{1}{N} \\sum_{i=1}^N c(y, p) = - \\frac{1}{N} \\sum_{i=1}^N y \\log(p) + (1-y) \\log(1-p)$$\n",
    "Also, explain how the cost function $J$ is consequently a function of the weights $w_1, w_2, \\dots, w_n$ and the bias term $b$, that is $J(w_1, w_2, \\dots, w_n, b)$.\n",
    "\n",
    "\n",
    "\n",
    "* Please explain the learning process by which the weights are updated using training examples and how it relates to the cost function $J$."
   ]
  },
  {
   "cell_type": "code",
   "execution_count": null,
   "metadata": {
    "collapsed": true
   },
   "outputs": [],
   "source": []
  }
 ],
 "metadata": {
  "kernelspec": {
   "display_name": "Python 3",
   "language": "python",
   "name": "python3"
  },
  "language_info": {
   "codemirror_mode": {
    "name": "ipython",
    "version": 3
   },
   "file_extension": ".py",
   "mimetype": "text/x-python",
   "name": "python",
   "nbconvert_exporter": "python",
   "pygments_lexer": "ipython3",
   "version": "3.6.1"
  }
 },
 "nbformat": 4,
 "nbformat_minor": 4
}
